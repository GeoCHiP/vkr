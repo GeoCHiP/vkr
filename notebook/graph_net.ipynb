{
 "cells": [
  {
   "cell_type": "markdown",
   "metadata": {
    "id": "W8ZCHjR-RJiQ",
    "tags": []
   },
   "source": [
    "## Links"
   ]
  },
  {
   "cell_type": "markdown",
   "metadata": {},
   "source": [
    "- Original verilog dataset:\n",
    "\n",
    "    https://www.dropbox.com/s/28675yrct49gh9q/verilog_dataset.zip?dl=0\n",
    "\n",
    "- Verilog dataset converted into graphs:\n",
    "\n",
    "    https://www.dropbox.com/s/s4a2mc1ial9e3es/combcirc.zip?dl=0\n",
    "\n",
    "- Original ISCAS85 dataset in .bench format\n",
    "\n",
    "    https://www.dropbox.com/s/7zu9gj1g9trlk16/iscas85_bench.zip?dl=0\n",
    "\n",
    "- ISCAS85 dataset converted into graphs:\n",
    "\n",
    "    https://www.dropbox.com/s/g6jzbm7c2lrpgw8/iscas85.zip?dl=0"
   ]
  },
  {
   "cell_type": "markdown",
   "metadata": {},
   "source": [
    "## Work"
   ]
  },
  {
   "cell_type": "code",
   "execution_count": 1,
   "metadata": {
    "colab": {
     "base_uri": "https://localhost:8080/"
    },
    "id": "sTP6E4ESPe2Z",
    "outputId": "8383d0e3-57af-4aca-d441-c0d3d26ccbb0",
    "tags": []
   },
   "outputs": [
    {
     "name": "stdout",
     "output_type": "stream",
     "text": [
      "2.0.1+cu117\n"
     ]
    }
   ],
   "source": [
    "import os\n",
    "import torch\n",
    "os.environ['TORCH'] = torch.__version__\n",
    "print(torch.__version__)"
   ]
  },
  {
   "cell_type": "code",
   "execution_count": 2,
   "metadata": {
    "tags": []
   },
   "outputs": [],
   "source": [
    "# Install required packages.\n",
    "!pip install -q pyg_lib -f https://data.pyg.org/whl/torch-${TORCH}.html\n",
    "!pip install -q torch-scatter -f https://data.pyg.org/whl/torch-${TORCH}.html\n",
    "!pip install -q torch-sparse -f https://data.pyg.org/whl/torch-${TORCH}.html\n",
    "!pip install -q torch-cluster -f https://data.pyg.org/whl/torch-${TORCH}.html\n",
    "!pip install -q torch-spline-conv -f https://data.pyg.org/whl/torch-${TORCH}.html\n",
    "!pip install -q git+https://github.com/pyg-team/pytorch_geometric.git"
   ]
  },
  {
   "cell_type": "code",
   "execution_count": 3,
   "metadata": {
    "tags": []
   },
   "outputs": [],
   "source": [
    "import random\n",
    "import numpy as np"
   ]
  },
  {
   "cell_type": "code",
   "execution_count": 4,
   "metadata": {
    "tags": []
   },
   "outputs": [],
   "source": [
    "def seed_everything(seed: int):\n",
    "    os.environ['PYTHONHASHSEED'] = str(seed)\n",
    "    random.seed(seed)\n",
    "    np.random.seed(seed)\n",
    "    torch.manual_seed(seed)\n",
    "    torch.cuda.manual_seed_all(seed)\n",
    "    torch.backends.cudnn.benchmark = False\n",
    "    torch.backends.cudnn.deterministic = True\n",
    "\n",
    "seed_everything(12345)"
   ]
  },
  {
   "cell_type": "code",
   "execution_count": 5,
   "metadata": {
    "tags": []
   },
   "outputs": [],
   "source": [
    "import shutil\n",
    "import os.path as osp\n",
    "from typing import Callable, Optional\n",
    "\n",
    "import torch\n",
    "from torch_geometric.data import InMemoryDataset, download_url, extract_zip\n",
    "from torch_geometric.io import read_tu_data"
   ]
  },
  {
   "cell_type": "code",
   "execution_count": 6,
   "metadata": {
    "id": "Gv64-wUJHdHL",
    "tags": []
   },
   "outputs": [],
   "source": [
    "class GraphDataset(InMemoryDataset):\n",
    "    def __init__(\n",
    "        self,\n",
    "        name: str,\n",
    "        url: str,\n",
    "        root: Optional[str] = None,\n",
    "        transform: Optional[Callable] = None,\n",
    "        pre_transform: Optional[Callable] = None,\n",
    "        pre_filter: Optional[Callable] = None,\n",
    "        log: bool = True,\n",
    "    ):\n",
    "        self.name = name\n",
    "        self.url = url\n",
    "\n",
    "        super().__init__(root, transform, pre_transform, pre_filter, log)\n",
    "\n",
    "        self.data, self.slices, self.sizes = torch.load(self.processed_paths[0])\n",
    "\n",
    "    @property\n",
    "    def raw_file_names(self):\n",
    "        names = ['A', 'graph_indicator', 'graph_attributes', 'node_labels', 'edge_labels']\n",
    "        return [f'{self.name}_{name}.txt' for name in names]\n",
    "\n",
    "    @property\n",
    "    def processed_file_names(self):\n",
    "        return ['data.pt']\n",
    "\n",
    "    @property\n",
    "    def num_node_labels(self) -> int:\n",
    "        return self.sizes['num_node_labels']\n",
    "\n",
    "    @property\n",
    "    def num_node_attributes(self) -> int:\n",
    "        return self.sizes['num_node_attributes']\n",
    "\n",
    "    @property\n",
    "    def num_edge_labels(self) -> int:\n",
    "        return self.sizes['num_edge_labels']\n",
    "\n",
    "    @property\n",
    "    def num_edge_attributes(self) -> int:\n",
    "        return self.sizes['num_edge_attributes']\n",
    "\n",
    "    def download(self):\n",
    "        folder = osp.join(self.root, self.name)\n",
    "        path = download_url(self.url, folder)\n",
    "        extract_zip(path, folder)\n",
    "        os.unlink(path)\n",
    "        shutil.rmtree(self.raw_dir)\n",
    "        os.rename(folder, self.raw_dir)\n",
    "\n",
    "    def process(self):\n",
    "        self.data, self.slices, sizes = read_tu_data(self.raw_dir, self.name)\n",
    "\n",
    "        if self.pre_filter is not None or self.pre_transform is not None:\n",
    "            data_list = [self.get(idx) for idx in range(len(self))]\n",
    "\n",
    "            if self.pre_filter is not None:\n",
    "                data_list = [d for d in data_list if self.pre_filter(d)]\n",
    "\n",
    "            if self.pre_transform is not None:\n",
    "                data_list = [self.pre_transform(d) for d in data_list]\n",
    "\n",
    "            self.data, self.slices = self.collate(data_list)\n",
    "            self._data_list = None  # Reset cache.\n",
    "\n",
    "        torch.save((self._data, self.slices, sizes), self.processed_paths[0])"
   ]
  },
  {
   "cell_type": "code",
   "execution_count": 7,
   "metadata": {
    "colab": {
     "base_uri": "https://localhost:8080/",
     "height": 455
    },
    "id": "5U-tFbYNHdE6",
    "outputId": "11f9127f-8ed7-4c9d-9f6b-1596c3c59a5e",
    "tags": []
   },
   "outputs": [
    {
     "name": "stderr",
     "output_type": "stream",
     "text": [
      "Downloading https://www.dropbox.com/s/s4a2mc1ial9e3es/combcirc.zip?dl=1\n",
      "Extracting combcirc-root/combcirc/combcirc.zip\n",
      "Processing...\n",
      "Done!\n"
     ]
    },
    {
     "name": "stdout",
     "output_type": "stream",
     "text": [
      "CPU times: user 1min 29s, sys: 4min 6s, total: 5min 36s\n",
      "Wall time: 3min 15s\n"
     ]
    }
   ],
   "source": [
    "%%time\n",
    "\n",
    "dataset_combcirc = GraphDataset(\n",
    "    name='combcirc',\n",
    "    url='https://www.dropbox.com/s/s4a2mc1ial9e3es/combcirc.zip?dl=1',\n",
    "    root='combcirc-root',\n",
    "    log=True,\n",
    ")"
   ]
  },
  {
   "cell_type": "code",
   "execution_count": 8,
   "metadata": {
    "tags": []
   },
   "outputs": [
    {
     "name": "stdout",
     "output_type": "stream",
     "text": [
      "GraphDataset(32699)\n",
      "dataset.num_node_labels: 12\n",
      "dataset.num_node_attributes: 0\n",
      "dataset.num_edge_labels: 142\n",
      "dataset.num_edge_attributes: 0\n"
     ]
    }
   ],
   "source": [
    "print(dataset_combcirc)\n",
    "print('dataset.num_node_labels:', dataset_combcirc.num_node_labels)\n",
    "print('dataset.num_node_attributes:', dataset_combcirc.num_node_attributes)\n",
    "print('dataset.num_edge_labels:', dataset_combcirc.num_edge_labels)\n",
    "print('dataset.num_edge_attributes:', dataset_combcirc.num_edge_attributes)"
   ]
  },
  {
   "cell_type": "code",
   "execution_count": 9,
   "metadata": {
    "colab": {
     "base_uri": "https://localhost:8080/"
    },
    "id": "qNGVKW6iRvtl",
    "outputId": "fb1448b1-9fd0-44ee-db00-5d87f228955b",
    "tags": []
   },
   "outputs": [
    {
     "name": "stdout",
     "output_type": "stream",
     "text": [
      "Data(edge_index=[2, 278], x=[248, 12], edge_attr=[278, 142], y=[1])\n",
      "data.num_edge_features: 142\n",
      "data.num_features: 12\n",
      "data.num_node_features: 12\n"
     ]
    }
   ],
   "source": [
    "data = dataset_combcirc.get(0)\n",
    "print(data)\n",
    "print('data.num_edge_features:', data.num_edge_features)\n",
    "print('data.num_features:', data.num_features)\n",
    "print('data.num_node_features:', data.num_node_features)"
   ]
  },
  {
   "cell_type": "code",
   "execution_count": 11,
   "metadata": {
    "colab": {
     "base_uri": "https://localhost:8080/"
    },
    "id": "pD65ZR78ai_S",
    "outputId": "b9540daa-66dd-49bc-95b9-0b9685860b38",
    "tags": []
   },
   "outputs": [
    {
     "name": "stdout",
     "output_type": "stream",
     "text": [
      "Number of training graphs: 26159\n",
      "Number of test graphs: 6540\n"
     ]
    }
   ],
   "source": [
    "dataset_combcirc = dataset_combcirc.shuffle()\n",
    "\n",
    "fraction = 0.8\n",
    "train_num = int(fraction * len(dataset_combcirc))\n",
    "\n",
    "train_dataset_combcirc = dataset_combcirc[:train_num]\n",
    "test_dataset_combcirc = dataset_combcirc[train_num:]\n",
    "\n",
    "print(f'Number of training graphs: {len(train_dataset_combcirc)}')\n",
    "print(f'Number of test graphs: {len(test_dataset_combcirc)}')"
   ]
  },
  {
   "cell_type": "code",
   "execution_count": 12,
   "metadata": {
    "tags": []
   },
   "outputs": [],
   "source": [
    "from torch_geometric.loader import DataLoader"
   ]
  },
  {
   "cell_type": "code",
   "execution_count": 13,
   "metadata": {
    "id": "TTJq1bOnboEQ",
    "tags": []
   },
   "outputs": [],
   "source": [
    "train_loader_combcirc = DataLoader(train_dataset_combcirc, batch_size=512, shuffle=True)\n",
    "test_loader_combcirc = DataLoader(test_dataset_combcirc, batch_size=512, shuffle=False)"
   ]
  },
  {
   "cell_type": "code",
   "execution_count": 14,
   "metadata": {
    "tags": []
   },
   "outputs": [],
   "source": [
    "from torch.nn import Linear\n",
    "import torch.nn.functional as F\n",
    "from torch_geometric.nn import GCNConv\n",
    "from torch_geometric.nn import global_mean_pool"
   ]
  },
  {
   "cell_type": "code",
   "execution_count": 15,
   "metadata": {
    "colab": {
     "base_uri": "https://localhost:8080/"
    },
    "id": "6owXfDhkXc3T",
    "outputId": "553f8d14-b844-4df4-95ff-b7152883e111",
    "tags": []
   },
   "outputs": [
    {
     "name": "stdout",
     "output_type": "stream",
     "text": [
      "GCN(\n",
      "  (conv1): GCNConv(12, 64)\n",
      "  (conv2): GCNConv(64, 64)\n",
      "  (conv3): GCNConv(64, 64)\n",
      "  (lin): Linear(in_features=64, out_features=1, bias=True)\n",
      ")\n"
     ]
    }
   ],
   "source": [
    "class GCN(torch.nn.Module):\n",
    "    def __init__(self, hidden_channels):\n",
    "        super(GCN, self).__init__()\n",
    "        self.conv1 = GCNConv(dataset_combcirc.num_node_features, hidden_channels, improved=True)\n",
    "        self.conv2 = GCNConv(hidden_channels, hidden_channels, improved=True)\n",
    "        self.conv3 = GCNConv(hidden_channels, hidden_channels, improved=True)\n",
    "        self.lin = Linear(hidden_channels, 1)\n",
    "\n",
    "    def forward(self, x, edge_index, batch):\n",
    "        # 1. Obtain node embeddings \n",
    "        x = self.conv1(x, edge_index)\n",
    "        x = x.relu()\n",
    "        x = self.conv2(x, edge_index)\n",
    "        x = x.relu()\n",
    "        x = self.conv3(x, edge_index)\n",
    "\n",
    "        # 2. Readout layer\n",
    "        x = global_mean_pool(x, batch)  # [batch_size, hidden_channels]\n",
    "\n",
    "        # 3. Apply a final regressor\n",
    "        x = F.dropout(x, p=0.5, training=self.training)\n",
    "        x = self.lin(x)\n",
    "        \n",
    "        return x.flatten()\n",
    "\n",
    "_model = GCN(hidden_channels=64)\n",
    "print(_model)"
   ]
  },
  {
   "cell_type": "markdown",
   "metadata": {},
   "source": [
    "A Google Colab thing"
   ]
  },
  {
   "cell_type": "code",
   "execution_count": 16,
   "metadata": {
    "tags": []
   },
   "outputs": [],
   "source": [
    "# from IPython.display import Javascript\n",
    "# display(Javascript('''google.colab.output.setIframeHeight(0, true, {maxHeight: 300})'''))"
   ]
  },
  {
   "cell_type": "code",
   "execution_count": 17,
   "metadata": {
    "colab": {
     "background_save": true,
     "base_uri": "https://localhost:8080/",
     "height": 127
    },
    "id": "TUx__eMSvaa4",
    "outputId": "9239dc0c-4141-42fe-926e-cc528c5ecd60",
    "tags": []
   },
   "outputs": [],
   "source": [
    "def train(model, device, train_loader, criterion, enable_edge_attr=False):\n",
    "    model = model.to(device)\n",
    "    model.train()\n",
    "    for data in train_loader:  # Iterate in batches over the training dataset.\n",
    "        data = data.to(device)\n",
    "        if enable_edge_attr:\n",
    "            out = model(data.x, data.edge_index, data.edge_attr, data.batch)\n",
    "        else:\n",
    "            out = model(data.x, data.edge_index, data.batch)  # Perform a single forward pass.\n",
    "        loss = criterion(out, data.y)  # Compute the loss.\n",
    "        loss.backward()  # Derive gradients.\n",
    "        optimizer.step()  # Update parameters based on gradients.\n",
    "        optimizer.zero_grad()  # Clear gradients.\n",
    "\n",
    "\n",
    "def test(model, device, loader, criterion, return_loss_list=False, enable_edge_attr=False):\n",
    "    model = model.to(device)\n",
    "    model.eval()\n",
    "\n",
    "    loss_list = []\n",
    "    with torch.no_grad():\n",
    "        for data in loader:  # Iterate in batches over the training/test dataset.\n",
    "            data = data.to(device)\n",
    "            if enable_edge_attr:\n",
    "                out = model(data.x, data.edge_index, data.edge_attr, data.batch)\n",
    "            else:\n",
    "                out = model(data.x, data.edge_index, data.batch)  # Perform a single forward pass.\n",
    "            loss = criterion(out, data.y, reduction='none')  # Compute the loss.\n",
    "            loss_list.append(loss.detach().cpu())\n",
    "\n",
    "        loss_mean = torch.mean(torch.cat(loss_list)).item()\n",
    "\n",
    "    if return_loss_list:\n",
    "        return loss_mean, loss_list\n",
    "    else:\n",
    "        return loss_mean"
   ]
  },
  {
   "cell_type": "code",
   "execution_count": 18,
   "metadata": {
    "tags": []
   },
   "outputs": [
    {
     "name": "stdout",
     "output_type": "stream",
     "text": [
      "device: cuda\n"
     ]
    }
   ],
   "source": [
    "gcn_model = GCN(hidden_channels=64)\n",
    "optimizer = torch.optim.Adam(gcn_model.parameters(), lr=0.001)\n",
    "scheduler = torch.optim.lr_scheduler.ReduceLROnPlateau(optimizer, 'min', patience=3, verbose=True)\n",
    "criterion = F.mse_loss\n",
    "n_epochs = 60\n",
    "device = 'cuda' if torch.cuda.is_available() else 'cpu'\n",
    "print('device:', device)"
   ]
  },
  {
   "cell_type": "code",
   "execution_count": 19,
   "metadata": {
    "tags": []
   },
   "outputs": [],
   "source": [
    "import matplotlib.pyplot as plt\n",
    "from IPython.display import clear_output"
   ]
  },
  {
   "cell_type": "code",
   "execution_count": 20,
   "metadata": {
    "tags": []
   },
   "outputs": [
    {
     "name": "stdout",
     "output_type": "stream",
     "text": [
      "Epoch: 059, Train Loss: 0.07928, Test loss: 0.08080\n"
     ]
    },
    {
     "data": {
      "image/png": "[encoded data removed]",
      "text/plain": [
       "<Figure size 1200x600 with 2 Axes>"
      ]
     },
     "metadata": {},
     "output_type": "display_data"
    }
   ],
   "source": [
    "epoch_train_losses = []\n",
    "epoch_test_losses = []\n",
    "\n",
    "for epoch in range(1, n_epochs):\n",
    "    train(gcn_model, device, train_loader_combcirc, criterion)\n",
    "\n",
    "    train_loss = test(gcn_model, device, train_loader_combcirc, criterion)\n",
    "    epoch_train_losses.append(train_loss)\n",
    "\n",
    "    test_loss = test(gcn_model, device, test_loader_combcirc, criterion)\n",
    "    epoch_test_losses.append(test_loss)\n",
    "    scheduler.step(test_loss)\n",
    "\n",
    "    clear_output()\n",
    "\n",
    "    print(f'Epoch: {epoch:03d}, Train Loss: {train_loss:.5f}, Test loss: {test_loss:.5f}')\n",
    "\n",
    "    fig, axes = plt.subplots(nrows=1, ncols=2, figsize=(12, 6))\n",
    "    \n",
    "    fig.suptitle('GCNConv')\n",
    "    \n",
    "    axes[0].plot(epoch_train_losses, '-o')\n",
    "    axes[0].set_xlabel('Epoch number')\n",
    "    axes[0].set_ylabel('Train loss')\n",
    "    # axes[0].set_xticks(np.arange(len(epoch_train_losses))[::len(epoch_train_losses)//20])\n",
    "    \n",
    "    axes[1].plot(epoch_test_losses, '-o')\n",
    "    axes[1].set_xlabel('Epoch number')\n",
    "    axes[1].set_ylabel('Test loss')\n",
    "    # axes[1].set_xticks(np.arange(len(epoch_test_losses))[::len(epoch_test_losses)//20])\n",
    "\n",
    "    plt.show()"
   ]
  },
  {
   "cell_type": "code",
   "execution_count": 21,
   "metadata": {
    "tags": []
   },
   "outputs": [
    {
     "name": "stdout",
     "output_type": "stream",
     "text": [
      "(combcirc) Test mse: 0.08080\n",
      "(combcirc) Test mae: 0.24475\n"
     ]
    }
   ],
   "source": [
    "criterions = {\n",
    "    'mse': F.mse_loss,\n",
    "    'mae': F.l1_loss,\n",
    "}\n",
    "losses = {}\n",
    "for crit_label, crit in criterions.items():\n",
    "    test_loss = test(gcn_model, device, test_loader_combcirc, crit)\n",
    "    losses[crit_label] = test_loss\n",
    "    print(f'(combcirc) Test {crit_label}: {test_loss:.5f}')"
   ]
  },
  {
   "cell_type": "code",
   "execution_count": 22,
   "metadata": {
    "tags": []
   },
   "outputs": [],
   "source": [
    "torch.save(gcn_model, f'GCN_combcirc_{losses[\"mse\"]:.5f}_{losses[\"mae\"]:.5f}.pt')"
   ]
  },
  {
   "cell_type": "code",
   "execution_count": 23,
   "metadata": {
    "colab": {
     "base_uri": "https://localhost:8080/",
     "height": 455
    },
    "id": "5U-tFbYNHdE6",
    "outputId": "11f9127f-8ed7-4c9d-9f6b-1596c3c59a5e",
    "tags": []
   },
   "outputs": [
    {
     "name": "stderr",
     "output_type": "stream",
     "text": [
      "Downloading https://www.dropbox.com/s/g6jzbm7c2lrpgw8/iscas85.zip?dl=1\n"
     ]
    },
    {
     "name": "stdout",
     "output_type": "stream",
     "text": [
      "CPU times: user 161 ms, sys: 58.4 ms, total: 219 ms\n",
      "Wall time: 1.73 s\n"
     ]
    },
    {
     "name": "stderr",
     "output_type": "stream",
     "text": [
      "Extracting iscas85-root/iscas85/iscas85.zip\n",
      "Processing...\n",
      "Done!\n"
     ]
    }
   ],
   "source": [
    "%%time\n",
    "\n",
    "dataset_iscas85 = GraphDataset(\n",
    "    name='iscas85',\n",
    "    url='https://www.dropbox.com/s/g6jzbm7c2lrpgw8/iscas85.zip?dl=1',\n",
    "    root='iscas85-root',\n",
    "    log=True,\n",
    ")"
   ]
  },
  {
   "cell_type": "code",
   "execution_count": 24,
   "metadata": {
    "tags": []
   },
   "outputs": [
    {
     "name": "stdout",
     "output_type": "stream",
     "text": [
      "GraphDataset(6)\n",
      "dataset.num_node_labels: 12\n",
      "dataset.num_node_attributes: 0\n",
      "dataset.num_edge_labels: 142\n",
      "dataset.num_edge_attributes: 0\n"
     ]
    }
   ],
   "source": [
    "print(dataset_iscas85)\n",
    "print('dataset.num_node_labels:', dataset_iscas85.num_node_labels)\n",
    "print('dataset.num_node_attributes:', dataset_iscas85.num_node_attributes)\n",
    "print('dataset.num_edge_labels:', dataset_iscas85.num_edge_labels)\n",
    "print('dataset.num_edge_attributes:', dataset_iscas85.num_edge_attributes)"
   ]
  },
  {
   "cell_type": "code",
   "execution_count": 25,
   "metadata": {
    "colab": {
     "base_uri": "https://localhost:8080/"
    },
    "id": "qNGVKW6iRvtl",
    "outputId": "fb1448b1-9fd0-44ee-db00-5d87f228955b",
    "tags": []
   },
   "outputs": [
    {
     "name": "stdout",
     "output_type": "stream",
     "text": [
      "Data(edge_index=[2, 2958], x=[1741, 12], edge_attr=[2958, 142], y=[1])\n",
      "data.num_edge_features: 142\n",
      "data.num_features: 12\n",
      "data.num_node_features: 12\n"
     ]
    }
   ],
   "source": [
    "data = dataset_iscas85.get(0)\n",
    "print(data)\n",
    "print('data.num_edge_features:', data.num_edge_features)\n",
    "print('data.num_features:', data.num_features)\n",
    "print('data.num_node_features:', data.num_node_features)"
   ]
  },
  {
   "cell_type": "code",
   "execution_count": 26,
   "metadata": {
    "id": "TTJq1bOnboEQ",
    "tags": []
   },
   "outputs": [],
   "source": [
    "test_loader_iscas85 = DataLoader(dataset_iscas85, batch_size=512, shuffle=False)"
   ]
  },
  {
   "cell_type": "code",
   "execution_count": 27,
   "metadata": {
    "tags": []
   },
   "outputs": [
    {
     "name": "stdout",
     "output_type": "stream",
     "text": [
      "(iscas85) Test mse: 0.02917\n",
      "(iscas85) Test mae: 0.13192\n"
     ]
    }
   ],
   "source": [
    "criterions = {\n",
    "    'mse': F.mse_loss,\n",
    "    'mae': F.l1_loss,\n",
    "}\n",
    "losses = {}\n",
    "for crit_label, crit in criterions.items():\n",
    "    test_loss = test(gcn_model, device, test_loader_iscas85, crit)\n",
    "    losses[crit_label] = test_loss\n",
    "    print(f'(iscas85) Test {crit_label}: {test_loss:.5f}')"
   ]
  },
  {
   "cell_type": "code",
   "execution_count": 28,
   "metadata": {
    "tags": []
   },
   "outputs": [],
   "source": [
    "torch.save(gcn_model, f'GCN_iscas85_{losses[\"mse\"]:.5f}_{losses[\"mae\"]:.5f}.pt')"
   ]
  },
  {
   "cell_type": "markdown",
   "metadata": {},
   "source": [
    "## GATConv"
   ]
  },
  {
   "cell_type": "code",
   "execution_count": 30,
   "metadata": {
    "tags": []
   },
   "outputs": [],
   "source": [
    "from torch_geometric.nn import GATv2Conv"
   ]
  },
  {
   "cell_type": "code",
   "execution_count": 31,
   "metadata": {
    "colab": {
     "base_uri": "https://localhost:8080/"
    },
    "id": "6owXfDhkXc3T",
    "outputId": "553f8d14-b844-4df4-95ff-b7152883e111",
    "tags": []
   },
   "outputs": [
    {
     "name": "stdout",
     "output_type": "stream",
     "text": [
      "GAT(\n",
      "  (conv1): GATv2Conv(12, 64, heads=1)\n",
      "  (conv2): GATv2Conv(64, 64, heads=1)\n",
      "  (conv3): GATv2Conv(64, 64, heads=1)\n",
      "  (lin): Linear(in_features=64, out_features=1, bias=True)\n",
      ")\n"
     ]
    }
   ],
   "source": [
    "class GAT(torch.nn.Module):\n",
    "    def __init__(self, hidden_channels):\n",
    "        super().__init__()\n",
    "        self.conv1 = GATv2Conv(dataset_combcirc.num_node_features, hidden_channels, edge_dim=dataset_combcirc.num_edge_features)\n",
    "        self.conv2 = GATv2Conv(hidden_channels, hidden_channels, edge_dim=dataset_combcirc.num_edge_features)\n",
    "        self.conv3 = GATv2Conv(hidden_channels, hidden_channels, edge_dim=dataset_combcirc.num_edge_features)\n",
    "        self.lin = Linear(hidden_channels, 1)\n",
    "\n",
    "    def forward(self, x, edge_index, edge_attr, batch):\n",
    "        # 1. Obtain node embeddings \n",
    "        x = self.conv1(x, edge_index, edge_attr)\n",
    "        x = x.relu()\n",
    "        x = self.conv2(x, edge_index, edge_attr)\n",
    "        x = x.relu()\n",
    "        x = self.conv3(x, edge_index, edge_attr)\n",
    "\n",
    "        # 2. Readout layer\n",
    "        x = global_mean_pool(x, batch)  # [batch_size, hidden_channels]\n",
    "\n",
    "        # 3. Apply a final regressor\n",
    "        x = F.dropout(x, p=0.5, training=self.training)\n",
    "        x = self.lin(x)\n",
    "\n",
    "        return x.flatten()\n",
    "\n",
    "_model = GAT(hidden_channels=64)\n",
    "print(_model)"
   ]
  },
  {
   "cell_type": "code",
   "execution_count": 34,
   "metadata": {
    "tags": []
   },
   "outputs": [
    {
     "name": "stdout",
     "output_type": "stream",
     "text": [
      "device: cuda\n"
     ]
    }
   ],
   "source": [
    "gat_model = GAT(hidden_channels=64)\n",
    "optimizer = torch.optim.Adam(gat_model.parameters(), lr=0.001)\n",
    "scheduler = torch.optim.lr_scheduler.ReduceLROnPlateau(optimizer, 'min', patience=3, verbose=True)\n",
    "criterion = F.mse_loss\n",
    "n_epochs = 60\n",
    "device = 'cuda' if torch.cuda.is_available() else 'cpu'\n",
    "print('device:', device)"
   ]
  },
  {
   "cell_type": "code",
   "execution_count": 35,
   "metadata": {
    "tags": []
   },
   "outputs": [
    {
     "name": "stdout",
     "output_type": "stream",
     "text": [
      "Epoch: 059, Train Loss: 0.07828, Test loss: 0.08030, lr: 1.0000000000000004e-08\n"
     ]
    },
    {
     "data": {
      "image/png": "[encoded data removed]",
      "text/plain": [
       "<Figure size 1200x600 with 2 Axes>"
      ]
     },
     "metadata": {},
     "output_type": "display_data"
    }
   ],
   "source": [
    "epoch_train_losses = []\n",
    "epoch_test_losses = []\n",
    "\n",
    "for epoch in range(1, n_epochs):\n",
    "    train(gat_model, device, train_loader_combcirc, criterion, enable_edge_attr=True)\n",
    "\n",
    "    train_loss = test(gat_model, device, train_loader_combcirc, criterion, enable_edge_attr=True)\n",
    "    epoch_train_losses.append(train_loss)\n",
    "\n",
    "    test_loss = test(gat_model, device, test_loader_combcirc, criterion, enable_edge_attr=True)\n",
    "    epoch_test_losses.append(test_loss)\n",
    "\n",
    "    clear_output()\n",
    "    \n",
    "    scheduler.step(test_loss)\n",
    "\n",
    "    print(f'Epoch: {epoch:03d}, Train Loss: {train_loss:.5f}, Test loss: {test_loss:.5f}, lr: {optimizer.param_groups[0][\"lr\"]}')\n",
    "\n",
    "    fig, axes = plt.subplots(nrows=1, ncols=2, figsize=(12, 6))\n",
    "    \n",
    "    fig.suptitle('GATConv')\n",
    "    \n",
    "    axes[0].plot(epoch_train_losses, '-o')\n",
    "    axes[0].set_xlabel('Epoch number')\n",
    "    axes[0].set_ylabel('Train loss')\n",
    "    # axes[0].set_xticks(np.arange(len(epoch_train_losses))[::len(epoch_train_losses)//20])\n",
    "    \n",
    "    axes[1].plot(epoch_test_losses, '-o')\n",
    "    axes[1].set_xlabel('Epoch number')\n",
    "    axes[1].set_ylabel('Test loss')\n",
    "    # axes[1].set_xticks(np.arange(len(epoch_test_losses))[::len(epoch_test_losses)//20])\n",
    "\n",
    "    plt.show()"
   ]
  },
  {
   "cell_type": "code",
   "execution_count": 36,
   "metadata": {
    "tags": []
   },
   "outputs": [
    {
     "name": "stdout",
     "output_type": "stream",
     "text": [
      "(combcirc) Test mse: 0.08030\n",
      "(combcirc) Test mae: 0.24183\n"
     ]
    }
   ],
   "source": [
    "criterions = {\n",
    "    'mse': F.mse_loss,\n",
    "    'mae': F.l1_loss,\n",
    "}\n",
    "losses = {}\n",
    "for crit_label, crit in criterions.items():\n",
    "    test_loss = test(gat_model, device, test_loader_combcirc, crit, enable_edge_attr=True)\n",
    "    losses[crit_label] = test_loss\n",
    "    print(f'(combcirc) Test {crit_label}: {test_loss:.5f}')"
   ]
  },
  {
   "cell_type": "code",
   "execution_count": 37,
   "metadata": {
    "tags": []
   },
   "outputs": [],
   "source": [
    "torch.save(model, f'GATv2_combcirc_{losses[\"mse\"]:.5f}_{losses[\"mae\"]:.5f}.pt')"
   ]
  },
  {
   "cell_type": "code",
   "execution_count": 40,
   "metadata": {
    "tags": []
   },
   "outputs": [
    {
     "name": "stdout",
     "output_type": "stream",
     "text": [
      "CPU times: user 49.1 ms, sys: 12.7 ms, total: 61.7 ms\n",
      "Wall time: 24.6 ms\n",
      "(iscas85) Test mse: 0.03741\n",
      "CPU times: user 27.6 ms, sys: 0 ns, total: 27.6 ms\n",
      "Wall time: 10.3 ms\n",
      "(iscas85) Test mae: 0.15307\n"
     ]
    }
   ],
   "source": [
    "criterions = {\n",
    "    'mse': F.mse_loss,\n",
    "    'mae': F.l1_loss,\n",
    "}\n",
    "losses = {}\n",
    "for crit_label, crit in criterions.items():\n",
    "    %time test_loss = test(gat_model, device, test_loader_iscas85, crit, enable_edge_attr=True)\n",
    "    losses[crit_label] = test_loss\n",
    "    print(f'(iscas85) Test {crit_label}: {test_loss:.5f}')"
   ]
  },
  {
   "cell_type": "code",
   "execution_count": 41,
   "metadata": {
    "tags": []
   },
   "outputs": [],
   "source": [
    "torch.save(gcn_model, f'GATv2_iscas85_{losses[\"mse\"]:.5f}_{losses[\"mae\"]:.5f}.pt')"
   ]
  },
  {
   "cell_type": "markdown",
   "metadata": {},
   "source": [
    "## TransformerConv"
   ]
  },
  {
   "cell_type": "code",
   "execution_count": 42,
   "metadata": {
    "tags": []
   },
   "outputs": [],
   "source": [
    "from torch_geometric.nn import TransformerConv"
   ]
  },
  {
   "cell_type": "code",
   "execution_count": 43,
   "metadata": {
    "colab": {
     "base_uri": "https://localhost:8080/"
    },
    "id": "6owXfDhkXc3T",
    "outputId": "553f8d14-b844-4df4-95ff-b7152883e111",
    "tags": []
   },
   "outputs": [
    {
     "name": "stdout",
     "output_type": "stream",
     "text": [
      "Transformer(\n",
      "  (conv1): TransformerConv(12, 64, heads=1)\n",
      "  (conv2): TransformerConv(64, 64, heads=1)\n",
      "  (conv3): TransformerConv(64, 64, heads=1)\n",
      "  (lin): Linear(in_features=64, out_features=1, bias=True)\n",
      ")\n"
     ]
    }
   ],
   "source": [
    "class Transformer(torch.nn.Module):\n",
    "    def __init__(self, hidden_channels):\n",
    "        super().__init__()\n",
    "        self.conv1 = TransformerConv(dataset_combcirc.num_node_features, hidden_channels, edge_dim=dataset_combcirc.num_edge_features)\n",
    "        self.conv2 = TransformerConv(hidden_channels, hidden_channels, edge_dim=dataset_combcirc.num_edge_features)\n",
    "        self.conv3 = TransformerConv(hidden_channels, hidden_channels, edge_dim=dataset_combcirc.num_edge_features)\n",
    "        self.lin = Linear(hidden_channels, 1)\n",
    "\n",
    "    def forward(self, x, edge_index, edge_attr, batch):\n",
    "        # 1. Obtain node embeddings \n",
    "        x = self.conv1(x, edge_index, edge_attr)\n",
    "        x = x.relu()\n",
    "        x = self.conv2(x, edge_index, edge_attr)\n",
    "        x = x.relu()\n",
    "        x = self.conv3(x, edge_index, edge_attr)\n",
    "\n",
    "        # 2. Readout layer\n",
    "        x = global_mean_pool(x, batch)  # [batch_size, hidden_channels]\n",
    "\n",
    "        # 3. Apply a final regressor\n",
    "        x = F.dropout(x, p=0.5, training=self.training)\n",
    "        x = self.lin(x)\n",
    "\n",
    "        return x.flatten()\n",
    "\n",
    "_model = Transformer(hidden_channels=64)\n",
    "print(_model)"
   ]
  },
  {
   "cell_type": "code",
   "execution_count": 44,
   "metadata": {
    "tags": []
   },
   "outputs": [
    {
     "name": "stdout",
     "output_type": "stream",
     "text": [
      "device: cuda\n"
     ]
    }
   ],
   "source": [
    "transformer_model = Transformer(hidden_channels=64)\n",
    "optimizer = torch.optim.Adam(transformer_model.parameters(), lr=0.001)\n",
    "scheduler = torch.optim.lr_scheduler.ReduceLROnPlateau(optimizer, 'min', patience=3, verbose=True)\n",
    "criterion = F.mse_loss\n",
    "n_epochs = 40\n",
    "device = 'cuda' if torch.cuda.is_available() else 'cpu'\n",
    "print('device:', device)"
   ]
  },
  {
   "cell_type": "code",
   "execution_count": 45,
   "metadata": {
    "tags": []
   },
   "outputs": [
    {
     "name": "stdout",
     "output_type": "stream",
     "text": [
      "Epoch: 039, Train Loss: 0.07766, Test loss: 0.07990, lr: 1.0000000000000002e-07\n"
     ]
    },
    {
     "data": {
      "image/png": "[encoded data removed]",
      "text/plain": [
       "<Figure size 1200x600 with 2 Axes>"
      ]
     },
     "metadata": {},
     "output_type": "display_data"
    }
   ],
   "source": [
    "epoch_train_losses = []\n",
    "epoch_test_losses = []\n",
    "\n",
    "for epoch in range(1, n_epochs):\n",
    "    train(transformer_model, device, train_loader_combcirc, criterion, enable_edge_attr=True)\n",
    "\n",
    "    train_loss = test(transformer_model, device, train_loader_combcirc, criterion, enable_edge_attr=True)\n",
    "    epoch_train_losses.append(train_loss)\n",
    "\n",
    "    test_loss = test(transformer_model, device, test_loader_combcirc, criterion, enable_edge_attr=True)\n",
    "    epoch_test_losses.append(test_loss)\n",
    "\n",
    "    clear_output()\n",
    "    \n",
    "    scheduler.step(test_loss)\n",
    "\n",
    "    print(f'Epoch: {epoch:03d}, Train Loss: {train_loss:.5f}, Test loss: {test_loss:.5f}, lr: {optimizer.param_groups[0][\"lr\"]}')\n",
    "\n",
    "    fig, axes = plt.subplots(nrows=1, ncols=2, figsize=(12, 6))\n",
    "    \n",
    "    fig.suptitle('TransformerConv')\n",
    "    \n",
    "    axes[0].plot(epoch_train_losses, '-o')\n",
    "    axes[0].set_xlabel('Epoch number')\n",
    "    axes[0].set_ylabel('Train loss')\n",
    "    # axes[0].set_xticks(np.arange(len(epoch_train_losses))[::len(epoch_train_losses)//20])\n",
    "    \n",
    "    axes[1].plot(epoch_test_losses, '-o')\n",
    "    axes[1].set_xlabel('Epoch number')\n",
    "    axes[1].set_ylabel('Test loss')\n",
    "    # axes[1].set_xticks(np.arange(len(epoch_test_losses))[::len(epoch_test_losses)//20])\n",
    "\n",
    "    plt.show()"
   ]
  },
  {
   "cell_type": "code",
   "execution_count": 46,
   "metadata": {
    "tags": []
   },
   "outputs": [
    {
     "name": "stdout",
     "output_type": "stream",
     "text": [
      "(combcirc) Test mse: 0.07990\n",
      "(combcirc) Test mae: 0.24116\n"
     ]
    }
   ],
   "source": [
    "criterions = {\n",
    "    'mse': F.mse_loss,\n",
    "    'mae': F.l1_loss,\n",
    "}\n",
    "losses = {}\n",
    "for crit_label, crit in criterions.items():\n",
    "    test_loss = test(transformer_model, device, test_loader_combcirc, crit, enable_edge_attr=True)\n",
    "    losses[crit_label] = test_loss\n",
    "    print(f'(combcirc) Test {crit_label}: {test_loss:.5f}')"
   ]
  },
  {
   "cell_type": "code",
   "execution_count": 47,
   "metadata": {
    "tags": []
   },
   "outputs": [],
   "source": [
    "torch.save(model, f'TransformerConv_combcirc_{losses[\"mse\"]:.5f}_{losses[\"mae\"]:.5f}.pt')"
   ]
  },
  {
   "cell_type": "code",
   "execution_count": 48,
   "metadata": {
    "tags": []
   },
   "outputs": [
    {
     "name": "stdout",
     "output_type": "stream",
     "text": [
      "(iscas85) Test mse: 0.02932\n",
      "(iscas85) Test mae: 0.15162\n"
     ]
    }
   ],
   "source": [
    "criterions = {\n",
    "    'mse': F.mse_loss,\n",
    "    'mae': F.l1_loss,\n",
    "}\n",
    "losses = {}\n",
    "for crit_label, crit in criterions.items():\n",
    "    test_loss = test(transformer_model, device, test_loader_iscas85, crit, enable_edge_attr=True)\n",
    "    losses[crit_label] = test_loss\n",
    "    print(f'(iscas85) Test {crit_label}: {test_loss:.5f}')"
   ]
  },
  {
   "cell_type": "code",
   "execution_count": 49,
   "metadata": {
    "tags": []
   },
   "outputs": [],
   "source": [
    "torch.save(model, f'TransformerConv_iscas85_{losses[\"mse\"]:.5f}_{losses[\"mae\"]:.5f}.pt')"
   ]
  },
  {
   "cell_type": "code",
   "execution_count": null,
   "metadata": {
    "id": "Lj43E-gP5-jm"
   },
   "outputs": [],
   "source": []
  }
 ],
 "metadata": {
  "colab": {
   "provenance": []
  },
  "gpuClass": "standard",
  "kernelspec": {
   "display_name": "Python 3 (ipykernel)",
   "language": "python",
   "name": "python3"
  },
  "language_info": {
   "codemirror_mode": {
    "name": "ipython",
    "version": 3
   },
   "file_extension": ".py",
   "mimetype": "text/x-python",
   "name": "python",
   "nbconvert_exporter": "python",
   "pygments_lexer": "ipython3",
   "version": "3.11.3"
  }
 },
 "nbformat": 4,
 "nbformat_minor": 4
}
